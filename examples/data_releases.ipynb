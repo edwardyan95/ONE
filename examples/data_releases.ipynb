{
 "cells": [
  {
   "cell_type": "markdown",
   "source": [
    "# Using ONE with local filesystem\n",
    "ONE can be set up for searching files on your local filesystem (as opposed to searching a remote\n",
    " database or http file server).  In doing so a couple of cache tables are generated.  You can\n",
    " share these tables when publishing your data so other users can search and load the data easily.\n",
    "\n",
    "Before building the cache tables, you need to organize your data files into directories with a\n",
    "specific naming convention:\n",
    "\n",
    "lab/subject/date/number\n",
    "\n",
    "For example 'UCL/mouse_001/2021-03-30/001'.  The file names should also follow the ALyx File\n",
    "(ALF) convention by following the pattern 'object.attribute', e.g. 'trials.intervals'.  To make\n",
    "loading files easier, there should be a file extension also.  For more details on the ALF\n",
    "specification, [click here](alf/README.md).\n",
    "\n",
    "To build the cache tables run One.setup:\n",
    "\n",
    "```\n",
    "from one.api import One\n",
    "One.setup('path/to/my/data/folder')\n",
    "```\n",
    "\n",
    "The below cells demonstrate this by downloading an example IBL dataset (a zip file of numpy\n",
    "files), building the cache tables, then loading some data through the ONE API."
   ],
   "metadata": {
    "collapsed": false,
    "pycharm": {
     "name": "#%% md\n"
    }
   }
  },
  {
   "cell_type": "code",
   "execution_count": null,
   "metadata": {
    "collapsed": true,
    "pycharm": {
     "name": "#%% Imports\n"
    }
   },
   "outputs": [],
   "source": [
    "from pathlib import Path\n",
    "\n",
    "from one.api import One\n",
    "from one.params import CACHE_DIR_DEFAULT\n",
    "\n",
    "# Data locations:\n",
    "# The data_url is the location of the remote example dataset.  This will be downloaded so we\n",
    "# have something to build a cache from on our local computer.\n",
    "data_url = 'https://ndownloader.figshare.com/files/21623715'\n",
    "\n",
    "# The cache_dir is the location of the example dataset.  By default this will be\n",
    "# ~/Downloads/ONE/my_example but could be set to anything.\n",
    "cache_dir = Path(CACHE_DIR_DEFAULT, 'my_example')\n"
   ]
  },
  {
   "cell_type": "markdown",
   "source": [
    "The following cell will download some example data from FigShare.  The dataset is around 74,000\n",
    "behaviour files (~218MB) from the beta data release for the IBL behaviour paper.  The code in\n",
    "this cell is not important."
   ],
   "metadata": {
    "collapsed": false
   }
  },
  {
   "cell_type": "code",
   "execution_count": null,
   "outputs": [],
   "source": [
    "# Imports for downloading example data\n",
    "import requests\n",
    "from io import BytesIO\n",
    "import zipfile\n",
    "\n",
    "# Download data if necessary\n",
    "if not (cache_dir.exists() and any(cache_dir.iterdir())):\n",
    "    cache_dir.parent.mkdir(exist_ok=True, parents=True)  # Create destination dir\n",
    "    print(f'Downloading data from {data_url.split(\".\", maxsplit=1)[-1]}...')\n",
    "    request = requests.get(data_url)  # Download data into memory (~300MB)\n",
    "    with zipfile.ZipFile(BytesIO(request.content)) as zipped:\n",
    "        print(f'Extracting into {cache_dir}...')\n",
    "        zipped.extractall(path=cache_dir.parent)  # Decompress into destination dir\n",
    "    Path(cache_dir.parent, 'ibl-behavioral-data-Dec2019').rename(cache_dir)  # Rename\n",
    "    cache_dir.joinpath('one_example.py').unlink(missing_ok=True)  # Delete outdated example\n",
    "    del request  # Free resources"
   ],
   "metadata": {
    "collapsed": false,
    "pycharm": {
     "name": "#%% Download Data\n"
    }
   }
  },
  {
   "cell_type": "markdown",
   "source": [
    "The following cell will index the files and build the cache (~3 min).  This only needs doing\n",
    "once.  For a data release these small cache files would typically be provided with the data.\n",
    "\n",
    "By default a hash of each file is stored in the cache table to detect whether a dataset has\n",
    "changed.  This process is slow so for this example we will skip the file hashing by setting\n",
    "`hash_files=False`."
   ],
   "metadata": {
    "collapsed": false
   }
  },
  {
   "cell_type": "code",
   "execution_count": null,
   "outputs": [],
   "source": [
    "print('Building ONE cache from filesystem...')\n",
    "One.setup(cache_dir, hash_files=False)"
   ],
   "metadata": {
    "collapsed": false,
    "pycharm": {
     "name": "#%%\n"
    }
   }
  },
  {
   "cell_type": "markdown",
   "source": [
    "Now the files can be searched and loaded via the API"
   ],
   "metadata": {
    "collapsed": false,
    "pycharm": {
     "name": "#%% md\n"
    }
   }
  },
  {
   "cell_type": "code",
   "execution_count": null,
   "outputs": [],
   "source": [
    "one = One(cache_dir=cache_dir)\n",
    "\n",
    "## Searching for behaviour experiment by subject\n",
    "subject = 'NYU-01'\n",
    "eids = one.search(subject=subject, dataset=['_ibl_trials.intervals.npy',])\n",
    "print(f'There are {len(eids)} behaviour sessions for subject \"{subject}\"')\n",
    "\n",
    "## Regex is supported in the search\n",
    "subject = 'NYU-.*'\n",
    "eids = one.search(subject=subject, dataset=['_ibl_trials.intervals.npy',])\n",
    "print(f'There are {len(eids)} behaviour sessions with {subject} subjects')\n"
   ],
   "metadata": {
    "collapsed": false,
    "pycharm": {
     "name": "#%% Searching\n"
    }
   }
  },
  {
   "cell_type": "code",
   "execution_count": null,
   "outputs": [],
   "source": [
    "# Loading the data\n",
    "eid, *eids = eids  # Assign first experiment ID in list to `eid` var\n",
    "\n",
    "# Load the trials object\n",
    "trials = one.load_object(eid, 'trials')\n",
    "\n",
    "# Load an individual dataset\n",
    "goCue_times = one.load_session_dataset(eid, '_ibl_trials.goCue_times.npy')"
   ],
   "metadata": {
    "collapsed": false,
    "pycharm": {
     "name": "#%% Loading\n"
    }
   }
  }
 ],
 "metadata": {
  "kernelspec": {
   "display_name": "Python 3",
   "language": "python",
   "name": "python3"
  },
  "language_info": {
   "codemirror_mode": {
    "name": "ipython",
    "version": 2
   },
   "file_extension": ".py",
   "mimetype": "text/x-python",
   "name": "python",
   "nbconvert_exporter": "python",
   "pygments_lexer": "ipython2",
   "version": "2.7.6"
  }
 },
 "nbformat": 4,
 "nbformat_minor": 0
}