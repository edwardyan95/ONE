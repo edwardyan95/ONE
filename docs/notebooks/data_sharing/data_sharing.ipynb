{
  "nbformat": 4,
  "nbformat_minor": 0,
  "metadata": {
    "colab": {
      "name": "Accessing and sharing data with ONE local mode",
      "provenance": []
    },
    "kernelspec": {
      "name": "python3",
      "display_name": "Python 3"
    },
    "language_info": {
      "name": "python"
    }
  },
  "cells": [
    {
      "cell_type": "markdown",
      "metadata": {
        "id": "Ke27mmuJ_i0R"
      },
      "source": [
        "ONE can operate in two modes. For very large collections, such as the main IBL data, it operates in \"remote mode\", downloading data from a remote store only as required. However it can also be used in \"local mode\", in which all data files are stored on the user's local machine. This is simpler, and allows access with no internet connection. To access data in local mode, a user uses exactly the same commands as in remote mode. \n",
        "\n",
        "The easiest way for data producers to release ONE-standard data is thus to create a directory containing your data files, collect them all into a .zip file, and put it on a website.  Users can then download and unzip your data files, and access them using ONE local mode. To allow searching in local mode, ONE creates a parquet-format index file, \"sessions.pqt\", which should also be included in the zip file.\n",
        "\n",
        "In this tutorial we will show how to access data files in local mode and how to create the index file.\n",
        "\n",
        "First we have to install ONE:"
      ]
    },
    {
      "cell_type": "code",
      "metadata": {
        "colab": {
          "base_uri": "https://localhost:8080/",
          "height": 851
        },
        "id": "HgBbwv0Q7hNY",
        "outputId": "b2a95e65-6f9b-4263-8726-a6788d4e9341"
      },
      "source": [
        "pip install ONE-api"
      ],
      "execution_count": 1,
      "outputs": [
        {
          "output_type": "stream",
          "name": "stdout",
          "text": [
            "Collecting ONE-api\n",
            "  Downloading ONE_api-1.2.1-py3-none-any.whl (70 kB)\n",
            "\u001b[K     |████████████████████████████████| 70 kB 2.3 MB/s \n",
            "\u001b[?25hCollecting iblutil\n",
            "  Downloading iblutil-1.0.0-py3-none-any.whl (10 kB)\n",
            "Collecting pandas>=1.2.4\n",
            "  Downloading pandas-1.3.3-cp37-cp37m-manylinux_2_17_x86_64.manylinux2014_x86_64.whl (11.3 MB)\n",
            "\u001b[K     |████████████████████████████████| 11.3 MB 8.0 MB/s \n",
            "\u001b[?25hCollecting flake8>=3.7.8\n",
            "  Downloading flake8-3.9.2-py2.py3-none-any.whl (73 kB)\n",
            "\u001b[K     |████████████████████████████████| 73 kB 901 kB/s \n",
            "\u001b[?25hRequirement already satisfied: tqdm>=4.32.1 in /usr/local/lib/python3.7/dist-packages (from ONE-api) (4.62.0)\n",
            "Requirement already satisfied: requests>=2.22.0 in /usr/local/lib/python3.7/dist-packages (from ONE-api) (2.23.0)\n",
            "Requirement already satisfied: numpy>=1.18 in /usr/local/lib/python3.7/dist-packages (from ONE-api) (1.19.5)\n",
            "Collecting pycodestyle<2.8.0,>=2.7.0\n",
            "  Downloading pycodestyle-2.7.0-py2.py3-none-any.whl (41 kB)\n",
            "\u001b[K     |████████████████████████████████| 41 kB 287 kB/s \n",
            "\u001b[?25hRequirement already satisfied: importlib-metadata in /usr/local/lib/python3.7/dist-packages (from flake8>=3.7.8->ONE-api) (4.6.4)\n",
            "Collecting pyflakes<2.4.0,>=2.3.0\n",
            "  Downloading pyflakes-2.3.1-py2.py3-none-any.whl (68 kB)\n",
            "\u001b[K     |████████████████████████████████| 68 kB 4.2 MB/s \n",
            "\u001b[?25hCollecting mccabe<0.7.0,>=0.6.0\n",
            "  Downloading mccabe-0.6.1-py2.py3-none-any.whl (8.6 kB)\n",
            "Requirement already satisfied: pytz>=2017.3 in /usr/local/lib/python3.7/dist-packages (from pandas>=1.2.4->ONE-api) (2018.9)\n",
            "Requirement already satisfied: python-dateutil>=2.7.3 in /usr/local/lib/python3.7/dist-packages (from pandas>=1.2.4->ONE-api) (2.8.2)\n",
            "Requirement already satisfied: six>=1.5 in /usr/local/lib/python3.7/dist-packages (from python-dateutil>=2.7.3->pandas>=1.2.4->ONE-api) (1.15.0)\n",
            "Requirement already satisfied: urllib3!=1.25.0,!=1.25.1,<1.26,>=1.21.1 in /usr/local/lib/python3.7/dist-packages (from requests>=2.22.0->ONE-api) (1.24.3)\n",
            "Requirement already satisfied: certifi>=2017.4.17 in /usr/local/lib/python3.7/dist-packages (from requests>=2.22.0->ONE-api) (2021.5.30)\n",
            "Requirement already satisfied: chardet<4,>=3.0.2 in /usr/local/lib/python3.7/dist-packages (from requests>=2.22.0->ONE-api) (3.0.4)\n",
            "Requirement already satisfied: idna<3,>=2.5 in /usr/local/lib/python3.7/dist-packages (from requests>=2.22.0->ONE-api) (2.10)\n",
            "Requirement already satisfied: pyarrow in /usr/local/lib/python3.7/dist-packages (from iblutil->ONE-api) (3.0.0)\n",
            "Requirement already satisfied: numba in /usr/local/lib/python3.7/dist-packages (from iblutil->ONE-api) (0.51.2)\n",
            "Requirement already satisfied: zipp>=0.5 in /usr/local/lib/python3.7/dist-packages (from importlib-metadata->flake8>=3.7.8->ONE-api) (3.5.0)\n",
            "Requirement already satisfied: typing-extensions>=3.6.4 in /usr/local/lib/python3.7/dist-packages (from importlib-metadata->flake8>=3.7.8->ONE-api) (3.7.4.3)\n",
            "Requirement already satisfied: llvmlite<0.35,>=0.34.0.dev0 in /usr/local/lib/python3.7/dist-packages (from numba->iblutil->ONE-api) (0.34.0)\n",
            "Requirement already satisfied: setuptools in /usr/local/lib/python3.7/dist-packages (from numba->iblutil->ONE-api) (57.4.0)\n",
            "Installing collected packages: pyflakes, pycodestyle, mccabe, pandas, flake8, iblutil, ONE-api\n",
            "  Attempting uninstall: pandas\n",
            "    Found existing installation: pandas 1.1.5\n",
            "    Uninstalling pandas-1.1.5:\n",
            "      Successfully uninstalled pandas-1.1.5\n",
            "\u001b[31mERROR: pip's dependency resolver does not currently take into account all the packages that are installed. This behaviour is the source of the following dependency conflicts.\n",
            "google-colab 1.0.0 requires pandas~=1.1.0; python_version >= \"3.0\", but you have pandas 1.3.3 which is incompatible.\u001b[0m\n",
            "Successfully installed ONE-api-1.2.1 flake8-3.9.2 iblutil-1.0.0 mccabe-0.6.1 pandas-1.3.3 pycodestyle-2.7.0 pyflakes-2.3.1\n"
          ]
        },
        {
          "output_type": "display_data",
          "data": {
            "application/vnd.colab-display-data+json": {
              "pip_warning": {
                "packages": [
                  "pandas"
                ]
              }
            }
          },
          "metadata": {}
        }
      ]
    },
    {
      "cell_type": "markdown",
      "metadata": {
        "id": "GMxYQa41rKlz"
      },
      "source": [
        "Next we are going to download an example collection of data files: the behavioral data released with [this paper](https://elifesciences.org/articles/63711). The following commands download a zip file from figshare into a cache directory, and unzip it. It is of course also possible to download and unzip the file manually, in any directory of the users choice. This should take around a minute."
      ]
    },
    {
      "cell_type": "code",
      "metadata": {
        "id": "XtHUmp7I7lpy"
      },
      "source": [
        "from pathlib import Path\n",
        "\n",
        "from one.api import One\n",
        "from one.params import CACHE_DIR_DEFAULT\n",
        "import requests\n",
        "from io import BytesIO\n",
        "import zipfile\n",
        "\n",
        "# Data locations:\n",
        "# The data_url is the location of the remote example dataset.  This will be downloaded so we\n",
        "# have something to build a cache from on our local computer.\n",
        "data_url = 'https://ndownloader.figshare.com/files/21623715'\n",
        "\n",
        "# The cache_dir is the location of the example dataset.  By default this will be\n",
        "# ~/Downloads/ONE/my_example but could be set to anything.\n",
        "cache_dir = Path(CACHE_DIR_DEFAULT, 'my_example')\n",
        "\n",
        "# Download data if not already downloaded\n",
        "if not (cache_dir.exists() and any(cache_dir.iterdir())):\n",
        "    cache_dir.parent.mkdir(exist_ok=True, parents=True)  # Create destination dir\n",
        "    print(f'Downloading data from {data_url.split(\".\", maxsplit=1)[-1]}...')\n",
        "    request = requests.get(data_url)  # Download data into memory (~300MB)\n",
        "    with zipfile.ZipFile(BytesIO(request.content)) as zipped:\n",
        "        print(f'Extracting into {cache_dir}...')\n",
        "        zipped.extractall(path=cache_dir.parent)  # Decompress into destination dir\n",
        "    Path(cache_dir.parent, 'ibl-behavioral-data-Dec2019').rename(cache_dir)  # Rename\n",
        "    cache_dir.joinpath('one_example.py').unlink()  # Delete outdated example\n",
        "    del request  # Free resources\n"
      ],
      "execution_count": 4,
      "outputs": []
    },
    {
      "cell_type": "markdown",
      "metadata": {
        "id": "Iwd2--7yx10s"
      },
      "source": [
        "Now let's have a look inside the directory. The data is stored in a hierarchical directory structure: lab/subject/date/number. So for the first recording made from Zador lab subject `CSH_ZAD_003` on 11 August 2019, the files are in the path `zadorlab/Subjects/CSH_ZAD_003/2019-08-11/001/alf`.  Within this directory, they are named with standard ONE file naming conventions.\n",
        "\n"
      ]
    },
    {
      "cell_type": "code",
      "metadata": {
        "colab": {
          "base_uri": "https://localhost:8080/"
        },
        "id": "GM5QM6O678HX",
        "outputId": "ac668bdc-c160-40cd-d1f2-45507ba25c65"
      },
      "source": [
        "import os\n",
        "print(os.listdir(cache_dir))\n",
        "print(os.listdir(cache_dir.joinpath('zadorlab/Subjects/CSH_ZAD_003/2019-08-11/001/alf')))"
      ],
      "execution_count": 5,
      "outputs": [
        {
          "output_type": "stream",
          "name": "stdout",
          "text": [
            "['danlab', 'wittenlab', 'cortexlab', 'README.txt', 'angelakilab', 'zadorlab', 'churchlandlab', 'mrsicflogellab', 'mainenlab', 'hoferlab']\n",
            "['_ibl_trials.intervals.npy', '_ibl_trials.contrastRight.npy', '_ibl_trials.feedback_times.npy', '_ibl_trials.choice.npy', '_ibl_trials.included.npy', '_ibl_trials.goCue_times.npy', '_ibl_trials.contrastLeft.npy', '_ibl_trials.feedbackType.npy', '_ibl_trials.rewardVolume.npy', '_ibl_trials.repNum.npy', '_ibl_trials.probabilityLeft.npy', '_ibl_trials.stimOn_times.npy', '_ibl_trials.stimOnTrigger_times.npy', '_ibl_trials.response_times.npy', '_ibl_trials.goCueTrigger_times.npy']\n"
          ]
        }
      ]
    },
    {
      "cell_type": "markdown",
      "metadata": {
        "id": "mPBAR_KUzT10"
      },
      "source": [
        "Now the files are on your local drive you can use ONE search and load commands as you would with remote data. Let's search for all sessions of subject NYU-01, that have behavioral data (which we can tell because they have the file `_ibl_trials.intervals.npy`.  As usual, you can also search with wildcards."
      ]
    },
    {
      "cell_type": "code",
      "metadata": {
        "colab": {
          "base_uri": "https://localhost:8080/"
        },
        "id": "8o5XR9XY-jYG",
        "outputId": "826f84d0-c6ab-4f0c-bd88-b478f5889841"
      },
      "source": [
        "one = One(cache_dir=cache_dir)\n",
        "\n",
        "## Searching for behaviour experiment by subject\n",
        "subject = 'NYU-01'\n",
        "eids = one.search(subject=subject, dataset=['_ibl_trials.intervals.npy',])\n",
        "print(f'There are {len(eids)} behaviour sessions for subject \"{subject}\"')\n",
        "\n",
        "## Regex is supported in the search\n",
        "subject = 'NYU-.*'\n",
        "eids = one.search(subject=subject, dataset=['_ibl_trials.intervals.npy',])\n",
        "print(f'There are {len(eids)} behaviour sessions with {subject} subjects')\n"
      ],
      "execution_count": 8,
      "outputs": [
        {
          "output_type": "stream",
          "name": "stdout",
          "text": [
            "There are 99 behaviour sessions for subject \"NYU-01\"\n",
            "There are 492 behaviour sessions with NYU-.* subjects\n"
          ]
        }
      ]
    },
    {
      "cell_type": "markdown",
      "metadata": {
        "id": "c61M6g6Z0K-p"
      },
      "source": [
        "Now let's load data for one of these sessions, and make a plot of reaction time vs. trial number, which we obtain by subtracting the time of the go cue onset from the feedback (i.e. reward or failure) time. "
      ]
    },
    {
      "cell_type": "code",
      "metadata": {
        "id": "y_7pLZXj-kqH",
        "colab": {
          "base_uri": "https://localhost:8080/",
          "height": 282
        },
        "outputId": "874d23fb-8361-4af9-83fd-c5fd761b31f4"
      },
      "source": [
        "import matplotlib.pyplot as plt\n",
        "%matplotlib inline\n",
        "\n",
        "# Loading the data\n",
        "\n",
        "# Load the trials object\n",
        "trials = one.load_object(eids[0], '_ibl_trials')\n",
        "\n",
        "# Load an individual dataset\n",
        "goCue_times = one.load_dataset(eids[0], '_ibl_trials.goCue_times')\n",
        "feedback_times = one.load_dataset(eids[0], '_ibl_trials.feedback_times')\n",
        "\n",
        "plt.plot(feedback_times-goCue_times, '.')"
      ],
      "execution_count": 9,
      "outputs": [
        {
          "output_type": "execute_result",
          "data": {
            "text/plain": [
              "[<matplotlib.lines.Line2D at 0x7fc31e3971d0>]"
            ]
          },
          "metadata": {},
          "execution_count": 9
        },
        {
          "output_type": "display_data",
          "data": {
            "image/png": "[encoded data removed]",
            "text/plain": [
              "<Figure size 432x288 with 1 Axes>"
            ]
          },
          "metadata": {
            "needs_background": "light"
          }
        }
      ]
    },
    {
      "cell_type": "markdown",
      "metadata": {
        "id": "p3b_stuRy21_"
      },
      "source": [
        "Finally, let's see how you would release data in ONE standard if you are a data producer.  Before zipping and uploading, you need to create the index file, which is done with one line of code. This should take about 3 minutes for the current behavioral data . Note, the option `hash_files` creates a hash of each file which allows ONE to detect when files have changed - this is good for dynanmic data stored on an Alyx but is not necessary for release of zipped data on a website.\n"
      ]
    },
    {
      "cell_type": "code",
      "metadata": {
        "colab": {
          "base_uri": "https://localhost:8080/"
        },
        "id": "TShKLIL67vxY",
        "outputId": "d61c9dca-902d-4a73-a2f0-42a055e33a4a"
      },
      "source": [
        "print('Building ONE cache from filesystem...')\n",
        "One.setup(cache_dir, hash_files=False)"
      ],
      "execution_count": 10,
      "outputs": [
        {
          "output_type": "stream",
          "name": "stdout",
          "text": [
            "Building ONE cache from filesystem...\n"
          ]
        },
        {
          "output_type": "execute_result",
          "data": {
            "text/plain": [
              "One (offline, /root/Downloads/ONE/my_example)"
            ]
          },
          "metadata": {},
          "execution_count": 10
        }
      ]
    },
    {
      "cell_type": "markdown",
      "metadata": {
        "id": "6nIoRTSs1QMS"
      },
      "source": [
        "Now to release the data, just zip up the directory and upload to your favorite web hosting service!"
      ]
    }
  ]
}