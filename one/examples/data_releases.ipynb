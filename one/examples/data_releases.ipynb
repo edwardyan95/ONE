{
 "cells": [
  {
   "cell_type": "code",
   "execution_count": null,
   "metadata": {
    "collapsed": true,
    "pycharm": {
     "name": "#%% Imports\n"
    }
   },
   "outputs": [],
   "source": [
    "from pathlib import Path\n",
    "\n",
    "from one.api import One\n",
    "from one.params import CACHE_DIR_DEFAULT\n",
    "\n",
    "# Imports for downloading example data\n",
    "import requests\n",
    "from io import BytesIO\n",
    "import zipfile\n",
    "\n",
    "# Data locations\n",
    "cache_dir = Path(CACHE_DIR_DEFAULT, 'ibl_behavior_paper')\n",
    "data_url = 'https://ndownloader.figshare.com/files/21623715'\n"
   ]
  },
  {
   "cell_type": "markdown",
   "source": [
    "The following cell will download some example data from FigShare.  The dataset is around 74,000\n",
    "behaviour files (~218MB) from the beta data release for the IBL behaviour paper."
   ],
   "metadata": {
    "collapsed": false
   }
  },
  {
   "cell_type": "code",
   "execution_count": null,
   "outputs": [],
   "source": [
    "# Download data if necessary\n",
    "if not (cache_dir.exists() and any(cache_dir.iterdir())):\n",
    "    cache_dir.parent.mkdir(exist_ok=True, parents=True)  # Create destination dir\n",
    "    print(f'Downloading data from {data_url.split(\".\", maxsplit=1)[-1]}...')\n",
    "    request = requests.get(data_url)  # Download data into memory (~300MB)\n",
    "    with zipfile.ZipFile(BytesIO(request.content)) as zipped:\n",
    "        print(f'Extracting into {cache_dir}...')\n",
    "        zipped.extractall(path=cache_dir.parent)  # Decompress into destination dir\n",
    "    Path(cache_dir.parent, 'ibl-behavioral-data-Dec2019').rename(cache_dir)  # Rename\n",
    "    cache_dir.joinpath('one_example.py').unlink(missing_ok=True)  # Delete outdated example\n",
    "    del request  # Free resources"
   ],
   "metadata": {
    "collapsed": false,
    "pycharm": {
     "name": "#%% Download Data\n"
    }
   }
  },
  {
   "cell_type": "markdown",
   "source": [
    "The following cell will index the files and build the cache (~3 min).  This only needs doing\n",
    "once.  For a data release these small cache files would typically be provided with the data."
   ],
   "metadata": {
    "collapsed": false
   }
  },
  {
   "cell_type": "code",
   "execution_count": null,
   "outputs": [],
   "source": [
    "print('Building ONE cache from filesystem...')\n",
    "One.setup(cache_dir, hash_files=False)"
   ],
   "metadata": {
    "collapsed": false,
    "pycharm": {
     "name": "#%%\n"
    }
   }
  },
  {
   "cell_type": "markdown",
   "source": [
    "Now the files can be searched and loaded via the API"
   ],
   "metadata": {
    "collapsed": false,
    "pycharm": {
     "name": "#%% md\n"
    }
   }
  },
  {
   "cell_type": "code",
   "execution_count": null,
   "outputs": [],
   "source": [
    "one = One(cache_dir=cache_dir)\n",
    "\n",
    "## Searching for behaviour experiment by subject\n",
    "subject = 'NYU-01'\n",
    "eids = one.search(subject=subject, dataset=['_ibl_trials.intervals.npy',])\n",
    "print(f'There are {len(eids)} behaviour sessions for subject \"{subject}\"')\n",
    "\n",
    "## Regex is supported in the search\n",
    "subject = 'NYU-.*'\n",
    "eids = one.search(subject=subject, dataset=['_ibl_trials.intervals.npy',])\n",
    "print(f'There are {len(eids)} behaviour sessions with {subject} subjects')\n"
   ],
   "metadata": {
    "collapsed": false,
    "pycharm": {
     "name": "#%% Searching\n"
    }
   }
  },
  {
   "cell_type": "code",
   "execution_count": null,
   "outputs": [],
   "source": [
    "# Loading the data\n",
    "eid, *eids = eids  # Assign first experiment ID in list to `eid` var\n",
    "\n",
    "# Load the trials object\n",
    "trials = one.load_object(eid, 'trials')\n",
    "\n",
    "# Load an individual dataset\n",
    "goCue_times = one.load_session_dataset(eid, '_ibl_trials.goCue_times.npy')"
   ],
   "metadata": {
    "collapsed": false,
    "pycharm": {
     "name": "#%% Loading\n"
    }
   }
  }
 ],
 "metadata": {
  "kernelspec": {
   "display_name": "Python 3",
   "language": "python",
   "name": "python3"
  },
  "language_info": {
   "codemirror_mode": {
    "name": "ipython",
    "version": 2
   },
   "file_extension": ".py",
   "mimetype": "text/x-python",
   "name": "python",
   "nbconvert_exporter": "python",
   "pygments_lexer": "ipython2",
   "version": "2.7.6"
  }
 },
 "nbformat": 4,
 "nbformat_minor": 0
}